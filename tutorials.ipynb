{
 "cells": [
  {
   "cell_type": "markdown",
   "metadata": {},
   "source": [
    "# Tutorials"
   ]
  },
  {
   "cell_type": "markdown",
   "metadata": {},
   "source": [
    "On this page, you will find several applicational examples on how Luna can be used to solve real-world problems."
   ]
  },
  {
   "cell_type": "markdown",
   "metadata": {},
   "source": [
    "## Beginner: Shipping wholesale products across Germany\n",
    "\n",
    "Imagine the task of efficiently coordinating the shipment of wholesale products across Germany. You have retailers in the seven largest German cities and aim to deliver all your products at once while taking the shortest route possible to minimize transportation costs.\n",
    "\n",
    "In technical terms, this challenge is known as the **Traveling Salesperson Problem (TSP)**, one of the most extensively studied optimization problems. It finds applications in various fields like planning, logistics, DNA sequencing, and even astronomy through slightly modified problem formulations.\n",
    "\n",
    "Luna already allows you to create and solve a TSP without any manual work. You can visit our page on our preimplemented [use cases](https://docs.aqarios.com/use-cases) to find out more about this problem.\n",
    "\n",
    "In simple terms, a TSP is fully defined by a weighted graph. Each node represents a city and each edge the distance between two cities.\n",
    "\n",
    "### Creating a TSP instance\n",
    "\n",
    "To create such a graph for a TSP, you can provide Luna with either a nested dictionary or a graph created using `networkx`. For simplicity and improved code readability, let's go with the latter approach."
   ]
  },
  {
   "cell_type": "code",
   "execution_count": null,
   "metadata": {},
   "outputs": [],
   "source": [
    "import networkx as nx\n",
    "\n",
    "# Create an empty graph using networkx\n",
    "graph = nx.Graph()\n",
    "\n",
    "# Define the cities we want to visit\n",
    "cities = ['Berlin', 'Hamburg', 'Munich', 'Cologne', 'Frankfurt', 'Stuttgart', 'Düsseldorf']\n",
    "\n",
    "# Add the cities as nodes in our graph\n",
    "graph.add_nodes_from(cities)\n",
    "\n",
    "# Define the distances between each city\n",
    "edges = [('Berlin', 'Hamburg', 289), \n",
    "         ('Berlin', 'Munich', 586), \n",
    "         ('Berlin', 'Cologne', 574), \n",
    "         ('Berlin', 'Frankfurt', 567), \n",
    "         ('Berlin', 'Stuttgart', 634), \n",
    "         ('Berlin', 'Düsseldorf', 565), \n",
    "         ('Hamburg', 'Munich', 796), \n",
    "         ('Hamburg', 'Cologne', 425), \n",
    "         ('Hamburg', 'Frankfurt', 493), \n",
    "         ('Hamburg', 'Stuttgart', 656), \n",
    "         ('Hamburg', 'Düsseldorf', 401), \n",
    "         ('Munich', 'Cologne', 589), \n",
    "         ('Munich', 'Frankfurt', 392), \n",
    "         ('Munich', 'Stuttgart', 233), \n",
    "         ('Munich', 'Düsseldorf', 632), \n",
    "         ('Cologne', 'Frankfurt', 190), \n",
    "         ('Cologne', 'Stuttgart', 377), \n",
    "         ('Cologne', 'Düsseldorf', 42), \n",
    "         ('Frankfurt', 'Stuttgart', 205), \n",
    "         ('Frankfurt', 'Düsseldorf', 257), \n",
    "         ('Stuttgart', 'Düsseldorf', 416)]\n",
    "\n",
    "# Add the distances as the edges in our graph\n",
    "graph.add_weighted_edges_from(edges)"
   ]
  },
  {
   "cell_type": "markdown",
   "metadata": {},
   "source": [
    "With this, we have defined our graph and, as a result, have already provided all the necessary specifications for a TSP. However, to actually transform this graph into a problem solvable using algorithms, you would typically need a mathematical model that enables communication with these algorithms designed to tackle optimization problems. The good news is that we have already taken care of implementing this mathematical model for you, so you don't need to handle it yourself.\n",
    "\n",
    "Now, you can proceed to send our graph to Luna and generate a TSP instance."
   ]
  },
  {
   "cell_type": "code",
   "execution_count": null,
   "metadata": {},
   "outputs": [],
   "source": [
    "# Load the luna package\n",
    "from luna import Luna\n",
    "\n",
    "# Create a Luna object and set your credentials (more info on our Get Started page)\n",
    "luna = Luna(credentials=\"credentials.json\")\n",
    "\n",
    "# Convert the networkx graph to a digestible format for Luna\n",
    "graph_data = nx.to_dict_of_dicts(graph)\n",
    "\n",
    "# Define that we want to create a TSP with the corresponding graph data\n",
    "tsp_instance =  {\n",
    "    \"name\": \"TSP\",\n",
    "    \"graph\": graph_data\n",
    "}\n",
    "\n",
    "# Create a TSP instance and retrieve the corresponding ID\n",
    "tsp_id = luna.create_optimization(instance=tsp_instance)"
   ]
  },
  {
   "cell_type": "markdown",
   "metadata": {},
   "source": [
    "This covers all that is needed to create a TSP instance using Luna. We can now proceed to the step of selecting an appropriate algorithm to solve our specific problem.\n",
    "\n",
    "### Choosing an Algorithm\n",
    "\n",
    "Within Luna, you have access to a diverse range of pre-implemented algorithms, which are designed to solve various types of optimization problems. You can either manually choose an algorithm that best fits your needs or take advantage of our Recommendation Engine. This engine can provide you with a recommended algorithm, along with suggestions for the most suitable hardware to achieve optimal results.\n",
    "\n",
    "Please note that the current version of our recommendation engine focuses on selecting from our available classical algorithms. However, we are actively working on introducing quantum algorithms in future versions.\n",
    "\n",
    "Accessing the recommendation engine is straightforward – it's an integral part of LunaSolve, our dedicated service designed to efficiently solve real-world optimization challenges."
   ]
  },
  {
   "cell_type": "code",
   "execution_count": null,
   "metadata": {},
   "outputs": [],
   "source": [
    "# Create a LunaSolve session\n",
    "ls = luna.start_LunaSolve()"
   ]
  },
  {
   "cell_type": "markdown",
   "metadata": {},
   "source": [
    "To receive a recommendation, all you need to do is instruct LunaSolve to provide you with one. You'll need to supply the ID of the TSP instance we previously created."
   ]
  },
  {
   "cell_type": "code",
   "execution_count": null,
   "metadata": {},
   "outputs": [],
   "source": [
    "# Query the recommendation engine with our TSP instance\n",
    "recommendation = ls.recommend(id=tsp_id)"
   ]
  },
  {
   "cell_type": "markdown",
   "metadata": {},
   "source": [
    "With the recommendation in hand, you can now proceed directly to solving the problem using the suggested algorithm. If you're curious about the details of the recommendation, you can take a look before moving forward."
   ]
  },
  {
   "cell_type": "code",
   "execution_count": null,
   "metadata": {},
   "outputs": [],
   "source": [
    "print(recommendation)"
   ]
  },
  {
   "cell_type": "markdown",
   "metadata": {},
   "source": [
    "**TODO: Pretty-Print** {'solver': 'tabu_search', 'solver_params': {'num_reads': 1}}"
   ]
  },
  {
   "cell_type": "markdown",
   "metadata": {},
   "source": [
    "This will display all the relevant information about the chosen algorithm and its corresponding parameters. However, it's not necessary for you to delve into these details in order to simply apply the algorithm, if you prefer not to."
   ]
  },
  {
   "cell_type": "markdown",
   "metadata": {},
   "source": [
    "### Solving the Problem Instance\n",
    "\n",
    "With our TSP instance created and a recommended algorithm obtained, we can now proceed to solve the problem. Thanks to Luna's interface, this can be achieved with just a single line of code."
   ]
  },
  {
   "cell_type": "code",
   "execution_count": null,
   "metadata": {},
   "outputs": [],
   "source": [
    "# Solve the TSP instance using our recommended algorithm and retrieve a solution url\n",
    "solution_url = ls.solve(optimization_id=tsp_id, solver=recommendation)"
   ]
  },
  {
   "cell_type": "markdown",
   "metadata": {},
   "source": [
    "Since certain algorithms, particularly those executed on quantum hardware, may require some time for completion, we have designed the process to be asynchronous. When you request a solution, Luna will manage all the necessary steps in the background. You're free to continue with other tasks while the computation is underway, returning at your convenience when it's finished.\n",
    "\n",
    "While the raw output generated by these algorithms might not be immediately intuitive, especially if you're not well-versed in optimization methods, Luna offers a solution. We provide the capability to translate this raw output back into the context of your initial problem formulation. In the case of a TSP, this translation could simply involve generating a list of cities in the order they should be visited."
   ]
  },
  {
   "cell_type": "code",
   "execution_count": null,
   "metadata": {},
   "outputs": [],
   "source": [
    "# After the execution of your algorithm has been finished, retrieve your transformed solution\n",
    "solution = ls.get_solution(solution_url, transform=True)\n",
    "\n",
    "# Print the solution and check the order in which we should visit the cities\n",
    "print(solution)"
   ]
  },
  {
   "cell_type": "markdown",
   "metadata": {},
   "source": [
    "**TODO: Pretty-Print**\n",
    "[['Hamburg'],\n",
    " ['Berlin'],\n",
    " ['Munich'],\n",
    " ['Stuttgart'],\n",
    " ['Frankfurt'],\n",
    " ['Cologne'],\n",
    " ['Düsseldorf']]"
   ]
  },
  {
   "cell_type": "markdown",
   "metadata": {},
   "source": [
    "And with that, we've completed the process. As you've observed, Luna efficiently guides you through all the essential steps required to solve your optimization problems. Even if you're not well-versed in quantum computing or optimization techniques, you can seamlessly navigate the process. However, if you're interested in delving deeper into each step and customizing the process, you can explore our intermediate or experts tutorials."
   ]
  },
  {
   "cell_type": "markdown",
   "metadata": {},
   "source": [
    "## Intermediate: Maximizing Portfolio Value\n",
    "\n",
    "Imagine you're interested in creating a portfolio of assets from the S&P500 index. Your primary goal is to ensure the security of your investment by minimizing the risk of potential losses. At the same time, you aim to achieve a certain minimum portfolio value to make the investment worthwhile. Additionally, you have a specific number of assets in mind that you intend to include in your portfolio.\n",
    "\n",
    "As you explore our collection of pre-implemented use cases, you discover that we've already developed a solution tailored to your requirements. To define the problem, you need historical data on the returns of the candidate assets over a specified time period.\n",
    "\n",
    "Let's assume you've prepared a CSV file containing the assets from the S&P500 index that you're considering for purchase. In this example, let's consider a scenario where you want to create a portfolio consisting of 2 out of 5 assets from the S&P500 index and achieve a target return higher or equal to the 75% quartile of all returns. Your data might look something like this:"
   ]
  },
  {
   "cell_type": "code",
   "execution_count": null,
   "metadata": {},
   "outputs": [],
   "source": [
    "# You can use pandas to read a CSV file\n",
    "import pandas as pd\n",
    "\n",
    "# Read the CSV file containing the assets you want to choose from\n",
    "# TODO: Change delimiter in CSV file\n",
    "assets = pd.read_csv('portfolio.csv', sep=\";\")\n",
    "\n",
    "# Print the assets\n",
    "print(assets)\n",
    "\n",
    "# **TODO: add CSV markdown from print statement"
   ]
  },
  {
   "cell_type": "markdown",
   "metadata": {},
   "source": [
    "### Creating a Portfolio Optimization Instance\n",
    "\n",
    "To optimize the selection of assets for your portfolio, you can use our LunaSolve service. To do this, you need to create a portfolio optimization (PO) instance, which requires your data to be formatted in a way suitable for optimization algorithms. In the case of portfolio optimization, we've already established a mathematical format for this purpose. Specifically, we use a Quadratic Unconstrained Binary Optimization (QUBO) problem formulation. \n",
    "\n",
    "For more details on this formulation, you can refer to our [portfolio optimization use case](www.docs.aqarios.com/use-cases/#portfolio-optimization). There, you'll find information about the problem's mathematical representation. Note that we require a two-dimensional list as input data. Therefore, let's start by transforming your CSV file into the correct format: a list of lists containing the time series of returns per asset. "
   ]
  },
  {
   "cell_type": "code",
   "execution_count": null,
   "metadata": {},
   "outputs": [],
   "source": [
    "# Numpy allows for easier modification of the data\n",
    "import numpy as np\n",
    "\n",
    "# Remove the Date column from the data\n",
    "returns = assets.iloc[:, 1:]\n",
    "\n",
    "# Convert the data to a numpy array\n",
    "returns = np.array(returns)\n",
    "\n",
    "# Switch axes to retrieve the time series of each asset\n",
    "returns = np.transpose(returns)\n",
    "\n",
    "# Convert the returns to a list of lists\n",
    "returns = returns_np.tolist()"
   ]
  },
  {
   "cell_type": "markdown",
   "metadata": {},
   "source": [
    "Now we only need to define our target return and the number of assets we want to buy."
   ]
  },
  {
   "cell_type": "code",
   "execution_count": null,
   "metadata": {},
   "outputs": [],
   "source": [
    "# Define the minimum return you want to achieve, at least the 75% quartile of all returns\n",
    "target_return = np.percentile(returns, 75)\n",
    "\n",
    "# Define the number of assets you want to buy\n",
    "n_assets = 2"
   ]
  },
  {
   "cell_type": "markdown",
   "metadata": {},
   "source": [
    "Next, we can send your portfolio data to Luna and create the optimization instance."
   ]
  },
  {
   "cell_type": "code",
   "execution_count": null,
   "metadata": {},
   "outputs": [],
   "source": [
    "# Load the luna package\n",
    "from luna import Luna\n",
    "\n",
    "# Create a Luna object and set your credentials (more info on our Get Started page)\n",
    "luna = Luna(credentials=\"credentials.json\")\n",
    "\n",
    "# Define that we want to create an instance of a PO with the corresponding data\n",
    "po_instance =  {\n",
    "    \"name\": \"PO\",\n",
    "    'returns': returns,\n",
    "    'R': target_return,\n",
    "    'n': n_assets,\n",
    "}\n",
    "\n",
    "# Create a PO instance and retrieve the corresponding ID\n",
    "po_id = luna.create_optimization(instance=po_instance)"
   ]
  },
  {
   "cell_type": "markdown",
   "metadata": {},
   "source": [
    "This completes the process of creating a PO instance through Luna. We are now ready to move on to the selection of an algorithm to solve our optimization problem.\n",
    "\n",
    "### Solving the problem instance\n",
    "\n",
    "Luna offers a diverse range of pre-implemented algorithms that are designed to tackle various types of optimization problems. You have the option to manually choose an algorithm that suits your needs or use our Recommendation Engine to suggest the most suitable algorithm. In this tutorial, let's assume that you'd like to apply a solver developed by us — the hybrid [QAGA+](https://arxiv.org/abs/1907.00707) solver. This evolutionary algorithm combines classical hardware with Quantum Annealers from D-Wave Systems.\n",
    "\n",
    "QAGA+ is a highly configurable algorithm with numerous hyperparameters that can be adjusted to enhance performance across different optimization problems. For simplicity, we will only configure three parameters in this tutorial:\n",
    "\n",
    "- `p_size`: The population size, determining how many individuals remain at the end of each iteration.\n",
    "- `mut_rate`: The mutation rate, indicating the likelihood of each individual undergoing mutation.\n",
    "- `rec_rate`: The recommendation rate, determining the number of mates each individual is paired with in each iteration.\n",
    "\n",
    "In practical scenarios, we recommend reviewing the complete list of available parameters and setting them based on your specific needs when selecting your algorithm. While default parameters are configured to function effectively across a wide range of applications, they might not always yield optimal performance.\n",
    "\n",
    "Now, let's proceed with the necessary steps to solve the portfolio optimization problem using QAGA+. Firstly, we need to establish our access token for the hardware provided by D-Wave Systems (this is only necessary once). If you don't possess such a token, you can obtain one directly from D-Wave, or you can reach out to us for questions about the process."
   ]
  },
  {
   "cell_type": "code",
   "execution_count": null,
   "metadata": {},
   "outputs": [],
   "source": [
    "# Set your token to access the Quantum Annealer from D-Wave Systems\n",
    "luna.set_qpu_token(provider='dwave', token='<QPUTOKEN>')"
   ]
  },
  {
   "cell_type": "markdown",
   "metadata": {},
   "source": [
    "Following that, we can set the solver and its corresponding parameters to proceed with solving the optimization problem using LunaSolve."
   ]
  },
  {
   "cell_type": "code",
   "execution_count": null,
   "metadata": {},
   "outputs": [],
   "source": [
    "# Define QAGA+ as our solver\n",
    "solver = 'QAGA+'\n",
    "\n",
    "# Define the three parameters for QAGA+ we want to set\n",
    "params = {\n",
    "    'p_size': 40,\n",
    "    'mut_rate': 0.3,\n",
    "    'rec_rate': 2\n",
    "}\n",
    "\n",
    "# Create a LunaSolve session\n",
    "ls = luna.start_LunaSolve()\n",
    "\n",
    "# Solve the PO instance using the QAGA+ algorithms and retrieve a solution url\n",
    "solution_url = ls.solve(optimization_id=po_id, solver=solver, parameters=params)"
   ]
  },
  {
   "cell_type": "markdown",
   "metadata": {},
   "source": [
    "Given that QAGA+ involves computations on real quantum hardware from D-Wave Systems, the execution might require some time. To ensure that you don't have to wait for the code to finish executing, we have designed the process to be asynchronous. This means that when you request a solution, LunaSolve takes care of all the necessary steps in the background, allowing you the freedom to engage in other tasks while the solution is being computed. You can simply return when the execution is complete.\n",
    "\n",
    "There are two ways to retrieve your solution:\n",
    "\n",
    "1. **Raw Solution:** This corresponds to the solution derived from the mathematical model of the problem. In our scenario, where we're dealing with QUBOs, this will be a binary vector.\n",
    "\n",
    "2. **Transformed Solution:** In this case, the raw solution, represented in mathematical format, has been translated back into the initial problem domain. For our portfolio optimization, this means obtaining the list of assets that should be purchased.\n",
    "\n",
    "To begin, let's examine the raw solution."
   ]
  },
  {
   "cell_type": "code",
   "execution_count": null,
   "metadata": {},
   "outputs": [],
   "source": [
    "# After the execution of your algorithm has been finished, retrieve your raw solution\n",
    "solution = ls.get_solution(solution_url)\n",
    "\n",
    "# Print the raw solution\n",
    "print(solution)"
   ]
  },
  {
   "cell_type": "markdown",
   "metadata": {},
   "source": [
    "However, the raw output provided by these algorithms might not be particularly informative, especially when working with our pre-implemented problem formulations. Instead, let's focus on the transformed solution, which is more aligned with the initial problem formulation and easier to interpret in the context of our use case."
   ]
  },
  {
   "cell_type": "code",
   "execution_count": null,
   "metadata": {},
   "outputs": [],
   "source": [
    "# Alternatively, retrieve the transformed solution\n",
    "solution = ls.get_solution(solution_url, transform=True)\n",
    "\n",
    "# Print the transformed solution and check which assets we should buy\n",
    "print(solution)"
   ]
  },
  {
   "cell_type": "markdown",
   "metadata": {},
   "source": [
    "Luna only knows about the indices of each asset and not the names, but you can easily access the names in your original data."
   ]
  },
  {
   "cell_type": "code",
   "execution_count": null,
   "metadata": {},
   "outputs": [],
   "source": [
    "# Get the names of your initial assets\n",
    "asset_names = assets.columns.tolist()[1:]\n",
    "\n",
    "# Retrieve the names of the assets you should buy from the solution\n",
    "assets_to_buy = [asset_names[i] for i in solution['solution']]\n",
    "\n",
    "# Print the assets to buy\n",
    "print(assets_to_buy)"
   ]
  },
  {
   "cell_type": "markdown",
   "metadata": {},
   "source": [
    "And there you have it – we've reached the end of this tutorial! With Luna, you have the capability to efficiently solve optimization problems and apply a wide range of algorithms. You're also free to configure each step in the process according to your needs. If you're looking for more inspiration, there's a whole library of [use cases](https://docs.aqarios.com/use-cases) and [use cases](https://docs.aqarios.com/solvers-and-algorithms) available for exploration. Alternatively, you're welcome to explore our Expert Tutorials, which provide more in-depth insights. For instance, you can delve into solving your own unique optimization problems using Luna's capabilities."
   ]
  },
  {
   "cell_type": "markdown",
   "metadata": {},
   "source": [
    "## Expert: Solving arbitrary QUBOs using QAOA\n",
    "\n",
    "Luna offers more than just its use case library – it's also a versatile tool for solving custom optimization problems you might encounter. In this tutorial, we'll explore a scenario where you've developed a proprietary transformation for a specific use case that you want to keep in-house. This transformation helps convert your optimization problem into the QUBO format.\n",
    "\n",
    "Luna provides all its features in such cases too. You can effortlessly upload your custom optimization problem to Luna and store it in your account."
   ]
  },
  {
   "cell_type": "code",
   "execution_count": null,
   "metadata": {},
   "outputs": [],
   "source": [
    "# Load the luna package\n",
    "from luna import Luna\n",
    "\n",
    "# Create a Luna object and set your credentials (more info on our Get Started page)\n",
    "luna = Luna(credentials=\"credentials.json\")\n",
    "\n",
    "# Retrieve or define your custom QUBO. It has to be a matrix represented as a list of lists\n",
    "qubo = [\n",
    "    [4, 0, 0, 0, -2],\n",
    "    [0, -2, 0, 0, 0],\n",
    "    [0, 0, 6, -3, 0],\n",
    "    [0, 0, -3, 2, 0],\n",
    "    [-2, 0, 0, 0, 5]\n",
    "]\n",
    "\n",
    "# Send and store the QUBO and retrieve the corresponding ID\n",
    "qubo_id = luna.create_qubo(instance=tsp_instance)"
   ]
  },
  {
   "cell_type": "markdown",
   "metadata": {},
   "source": [
    "From this point onward, you have the option to select one of our pre-implemented QUBO solver algorithms. You can dedice to manually choose your preferred algorithm or use our recommendation engine. It's important to note that while the recommendation engine can work with raw QUBO formulations, the suggestions might be more accurate when dealing with use cases from our library due to the additional context they provide. Keep this in mind when using this feature.\n",
    "\n",
    "In this case, let's assume that you want to solve your QUBO using the QAOA algorithm on one of IBM's free-to-use simulators. Specifically, we'll use the QASM Simulator for this tutorial."
   ]
  },
  {
   "cell_type": "code",
   "execution_count": null,
   "metadata": {},
   "outputs": [],
   "source": [
    "# Define QAOA as our solver\n",
    "solver = 'QAGA+'\n",
    "\n",
    "# Define the QASM Simulator as backend for QAOA\n",
    "params = {\n",
    "    'backend': 'qasm_simulator'\n",
    "}\n",
    "\n",
    "# Create a LunaSolve session\n",
    "ls = luna.start_LunaSolve()\n",
    "\n",
    "# Solve your QUBO using our QAOA on the QASM Simulator from IBM and retrieve a solution url\n",
    "solution_url = ls.solve_qubo(qubo_ids=qubo_id, solver=solver, parameters=params)"
   ]
  },
  {
   "cell_type": "markdown",
   "metadata": {},
   "source": [
    "Since IBM's simulators run on their servers rather than ours, the execution might take some time. To prevent you from waiting for the code to complete, we've designed the process to be asynchronous. When you request a solution, LunaSolve handles all the required steps in the background. This way, you can continue with other tasks while the solution is being computed. You just need to return when the execution is finished.\n",
    "\n",
    "After the algorithms have completed their run, you can easily retrieve the solution for your QUBO. This solution will be a binary vector, indicating the settings of the variables."
   ]
  },
  {
   "cell_type": "code",
   "execution_count": null,
   "metadata": {},
   "outputs": [],
   "source": [
    "# After the execution of your algorithm has finished, retrieve your solution\n",
    "solution = ls.get_solution(solution_url)\n",
    "\n",
    "# Print the solution - a binary vector\n",
    "print(solution)"
   ]
  },
  {
   "cell_type": "markdown",
   "metadata": {},
   "source": [
    "Now, you can take the results and perform post-processing in your local environment."
   ]
  },
  {
   "cell_type": "markdown",
   "metadata": {},
   "source": [
    "## Expert: Running Qiskit Programs on IBM Quantum\n",
    "\n",
    "While Luna primarily focuses on optimization services, its capabilities extend beyond that domain. With LunaQ, we provide a framework that greatly simplifies the process of accessing various quantum hardware providers. You can use this framework to execute algorithms from our use case library or deploy your custom algorithms.\n",
    "\n",
    "In this tutorial, let's imagine you have a Qiskit program locally that you wish to run on IBM's servers. Through LunaQ, we offer the capability to submit arbitrary programs to IBM Quantum."
   ]
  },
  {
   "cell_type": "code",
   "execution_count": null,
   "metadata": {},
   "outputs": [],
   "source": [
    "# Load the luna package\n",
    "from luna import Luna\n",
    "\n",
    "# Create a Luna object and set your credentials (more info on our Get Started page)\n",
    "luna = Luna(credentials=\"credentials.json\")\n",
    "\n",
    "# Create a LunaQ session\n",
    "lq = luna_start_LunaQ()"
   ]
  },
  {
   "cell_type": "markdown",
   "metadata": {},
   "source": [
    "To execute your custom Qiskit program, you need to provide a Python file containing the Qiskit code and a JSON file for the corresponding metadata. In this tutorial, let's consider a scenario where you aim to measure a Bell state in 5 iterations. For flexibility, you've kept the number of iterations as a parameter within your script. Here's what your Qiskit program might look like:"
   ]
  },
  {
   "cell_type": "code",
   "execution_count": null,
   "metadata": {},
   "outputs": [],
   "source": [
    "from typing import Any\n",
    "\n",
    "from qiskit_ibm_runtime.program import UserMessenger, ProgramBackend\n",
    "from qiskit import QuantumCircuit, QuantumRegister, transpile\n",
    "\n",
    "\n",
    "def circuit(backend: ProgramBackend, user_messenger: UserMessenger, **kwargs):\n",
    "    qr = QuantumRegister(2)\n",
    "    qc = QuantumCircuit(qr)\n",
    "\n",
    "    qc.h(qr[0])\n",
    "    qc.cx(qr[0], qr[1])\n",
    "    qc.measure_all()\n",
    "\n",
    "    return transpile(qc, backend)\n",
    "\n",
    "def main(backend: ProgramBackend, user_messenger: UserMessenger, **kwargs) -> Any:\n",
    "    iterations = kwargs.pop(\"iterations\", 5)\n",
    "    counts = {\"00\": 0, \"11\": 0}\n",
    "    for it in range(iterations):\n",
    "        qc = circuit(backend, user_messenger)\n",
    "        result = backend.run(qc).result()\n",
    "        counts_it = result.get_counts()\n",
    "        counts[\"00\"] += counts_it[\"00\"]\n",
    "        counts[\"11\"] += counts_it[\"11\"]\n",
    "\n",
    "    return counts"
   ]
  },
  {
   "cell_type": "markdown",
   "metadata": {},
   "source": [
    "Now, let's assume you intend to run this program on IBM's Matrix Product State Simulator."
   ]
  },
  {
   "cell_type": "code",
   "execution_count": null,
   "metadata": {},
   "outputs": [],
   "source": [
    "# The path to the file that contains your Qiskit program\n",
    "program_path = \"program.py\"\n",
    "\n",
    "# The path to the file that contains the metadata of your Qiskit program\n",
    "metadata = \"program.json\"\n",
    "\n",
    "# The inputs to your Qiskit program, here the number of iterations of running your circuit\n",
    "inputs = {\"iterations\": 10}\n",
    "\n",
    "# Define the MPS Simulator as backend for your program\n",
    "params = {\"backend_name\": \"simulator_mps\"}"
   ]
  },
  {
   "cell_type": "markdown",
   "metadata": {},
   "source": [
    "With just a single line of code, you can execute this program through Luna on IBM's server."
   ]
  },
  {
   "cell_type": "code",
   "execution_count": null,
   "metadata": {},
   "outputs": [],
   "source": [
    "circuit_id = lq.send_qiskit_program(program_path=program_path, metadata=metadata, inputs=inputs, options=options)"
   ]
  },
  {
   "cell_type": "markdown",
   "metadata": {},
   "source": [
    "Since IBM's simulators run on their servers rather than ours, the execution might take some time. To prevent you from waiting for the code to complete, we've designed the process to be asynchronous. When you request a solution, LunaSolve handles all the required steps in the background. This way, you can continue with other tasks while the solution is being computed. You just need to return when the execution is finished.\n",
    "\n",
    "After the program has finished running, you can easily retrieve the output through Luna again."
   ]
  },
  {
   "cell_type": "code",
   "execution_count": null,
   "metadata": {},
   "outputs": [],
   "source": [
    "# Retrieve the results of your Qiskit program\n",
    "result = lq.get_qiskit_results(circuit_id)\n",
    "\n",
    "# Print the results\n",
    "print(result)"
   ]
  },
  {
   "cell_type": "markdown",
   "metadata": {},
   "source": [
    "This service is based on the Qiskit runtime service to upload runtime programs, so you can refer to [IBM's documentation](https://qiskit.org/ecosystem/ibm-runtime/stubs/qiskit_ibm_runtime.QiskitRuntimeService.upload_program.html) for further details."
   ]
  }
 ],
 "metadata": {
  "kernelspec": {
   "display_name": "Python 3 (ipykernel)",
   "language": "python",
   "name": "python3"
  },
  "language_info": {
   "codemirror_mode": {
    "name": "ipython",
    "version": 3
   },
   "file_extension": ".py",
   "mimetype": "text/x-python",
   "name": "python",
   "nbconvert_exporter": "python",
   "pygments_lexer": "ipython3",
   "version": "3.8.10"
  }
 },
 "nbformat": 4,
 "nbformat_minor": 2
}
